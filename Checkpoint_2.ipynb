{
 "cells": [
  {
   "cell_type": "code",
   "execution_count": 1,
   "id": "4bafc9a4",
   "metadata": {},
   "outputs": [
    {
     "name": "stdout",
     "output_type": "stream",
     "text": [
      "Please enter your first name ? Hakim\n",
      "Please enter your Last name ?Tazi\n"
     ]
    },
    {
     "data": {
      "text/plain": [
       "'Tazi Hakim'"
      ]
     },
     "execution_count": 1,
     "metadata": {},
     "output_type": "execute_result"
    }
   ],
   "source": [
    "def question1(first_name,last_name):\n",
    "    a = last_name + \" \" + first_name\n",
    "    return a\n",
    "first_name = input(\"Please enter your first name ? \")\n",
    "last_name = input(\"Please enter your Last name ?\")\n",
    "question1(first_name,last_name)"
   ]
  },
  {
   "cell_type": "code",
   "execution_count": 2,
   "id": "488adb85",
   "metadata": {},
   "outputs": [
    {
     "name": "stdout",
     "output_type": "stream",
     "text": [
      "Entrez un chiffre : 5\n"
     ]
    },
    {
     "data": {
      "text/plain": [
       "615"
      ]
     },
     "execution_count": 2,
     "metadata": {},
     "output_type": "execute_result"
    }
   ],
   "source": [
    "def question2(n):\n",
    "    n = str(n)\n",
    "    result = int(n)+ int(n+n)+int(n+n+n)\n",
    "    return result\n",
    "n = input(\"Entrez un chiffre : \")\n",
    "question2(n)"
   ]
  },
  {
   "cell_type": "code",
   "execution_count": 3,
   "id": "2662d447",
   "metadata": {},
   "outputs": [
    {
     "name": "stdout",
     "output_type": "stream",
     "text": [
      "Entrez un nombre : 9876\n",
      "le nombre 9876 est un nombre pair\n"
     ]
    }
   ],
   "source": [
    "def question3(a):\n",
    "    a = int(a)\n",
    "    if a%2 == 0:\n",
    "        res = print(\"le nombre\",a,\"est un nombre pair\")\n",
    "    else:\n",
    "        res = print(\"le nombre\",a,\"est un nombre impair\")\n",
    "    return res\n",
    "a = input(\"Entrez un nombre : \")\n",
    "question3(a)"
   ]
  },
  {
   "cell_type": "code",
   "execution_count": 4,
   "id": "8ea93719",
   "metadata": {},
   "outputs": [
    {
     "data": {
      "text/plain": [
       "[2002,\n",
       " 2009,\n",
       " 2016,\n",
       " 2023,\n",
       " 2037,\n",
       " 2044,\n",
       " 2051,\n",
       " 2058,\n",
       " 2072,\n",
       " 2079,\n",
       " 2086,\n",
       " 2093,\n",
       " 2107,\n",
       " 2114,\n",
       " 2121,\n",
       " 2128,\n",
       " 2142,\n",
       " 2149,\n",
       " 2156,\n",
       " 2163,\n",
       " 2177,\n",
       " 2184,\n",
       " 2191,\n",
       " 2198,\n",
       " 2212,\n",
       " 2219,\n",
       " 2226,\n",
       " 2233,\n",
       " 2247,\n",
       " 2254,\n",
       " 2261,\n",
       " 2268,\n",
       " 2282,\n",
       " 2289,\n",
       " 2296,\n",
       " 2303,\n",
       " 2317,\n",
       " 2324,\n",
       " 2331,\n",
       " 2338,\n",
       " 2352,\n",
       " 2359,\n",
       " 2366,\n",
       " 2373,\n",
       " 2387,\n",
       " 2394,\n",
       " 2401,\n",
       " 2408,\n",
       " 2422,\n",
       " 2429,\n",
       " 2436,\n",
       " 2443,\n",
       " 2457,\n",
       " 2464,\n",
       " 2471,\n",
       " 2478,\n",
       " 2492,\n",
       " 2499,\n",
       " 2506,\n",
       " 2513,\n",
       " 2527,\n",
       " 2534,\n",
       " 2541,\n",
       " 2548,\n",
       " 2562,\n",
       " 2569,\n",
       " 2576,\n",
       " 2583,\n",
       " 2597,\n",
       " 2604,\n",
       " 2611,\n",
       " 2618,\n",
       " 2632,\n",
       " 2639,\n",
       " 2646,\n",
       " 2653,\n",
       " 2667,\n",
       " 2674,\n",
       " 2681,\n",
       " 2688,\n",
       " 2702,\n",
       " 2709,\n",
       " 2716,\n",
       " 2723,\n",
       " 2737,\n",
       " 2744,\n",
       " 2751,\n",
       " 2758,\n",
       " 2772,\n",
       " 2779,\n",
       " 2786,\n",
       " 2793,\n",
       " 2807,\n",
       " 2814,\n",
       " 2821,\n",
       " 2828,\n",
       " 2842,\n",
       " 2849,\n",
       " 2856,\n",
       " 2863,\n",
       " 2877,\n",
       " 2884,\n",
       " 2891,\n",
       " 2898,\n",
       " 2912,\n",
       " 2919,\n",
       " 2926,\n",
       " 2933,\n",
       " 2947,\n",
       " 2954,\n",
       " 2961,\n",
       " 2968,\n",
       " 2982,\n",
       " 2989,\n",
       " 2996,\n",
       " 3003,\n",
       " 3017,\n",
       " 3024,\n",
       " 3031,\n",
       " 3038,\n",
       " 3052,\n",
       " 3059,\n",
       " 3066,\n",
       " 3073,\n",
       " 3087,\n",
       " 3094,\n",
       " 3101,\n",
       " 3108,\n",
       " 3122,\n",
       " 3129,\n",
       " 3136,\n",
       " 3143,\n",
       " 3157,\n",
       " 3164,\n",
       " 3171,\n",
       " 3178,\n",
       " 3192,\n",
       " 3199]"
      ]
     },
     "execution_count": 4,
     "metadata": {},
     "output_type": "execute_result"
    }
   ],
   "source": [
    "def question4():\n",
    "    my_list = []\n",
    "    for i in range(2000,3201):\n",
    "        if i%7 == 0 and i%5 !=0:\n",
    "            my_list.append(i)\n",
    "    return my_list\n",
    "question4()"
   ]
  },
  {
   "cell_type": "code",
   "execution_count": 5,
   "id": "3163a59b",
   "metadata": {},
   "outputs": [
    {
     "name": "stdout",
     "output_type": "stream",
     "text": [
      "Quel nombre entier souhaitez vous calculer la factorielle ? 7\n",
      "La factorielle de 7 est égale à 5040\n"
     ]
    }
   ],
   "source": [
    "def question5(n):\n",
    "    n = int(n)\n",
    "    if n<0:\n",
    "        print(\"la factorielle d'un nombre négatif n'est pas définie\")\n",
    "    elif n==0:\n",
    "        print(\"La factorielle de \",n,\"est égale à 1\")\n",
    "    else:\n",
    "        res = 1\n",
    "        for i in range(1,n+1):\n",
    "            res = res * i\n",
    "    return print(\"La factorielle de\",n,\"est égale à\",res)\n",
    "n = input(\"Quel nombre entier souhaitez vous calculer la factorielle ? \")\n",
    "question5(n)\n",
    "            "
   ]
  },
  {
   "cell_type": "code",
   "execution_count": 6,
   "id": "e92bfe46",
   "metadata": {},
   "outputs": [
    {
     "name": "stdout",
     "output_type": "stream",
     "text": [
      "Entrez un mot ou une phrase :Hello team\n",
      "H\n",
      "l\n",
      "o\n",
      "t\n",
      "a\n"
     ]
    }
   ],
   "source": [
    "def question6(a):\n",
    "    for i,l in enumerate(a):\n",
    "        if i%2 ==0:\n",
    "            res = print(l)\n",
    "    return res\n",
    "a = input(\"Entrez un mot ou une phrase :\")\n",
    "question6(a)"
   ]
  },
  {
   "cell_type": "code",
   "execution_count": 13,
   "id": "6ac7c0db",
   "metadata": {},
   "outputs": [
    {
     "name": "stdout",
     "output_type": "stream",
     "text": [
      "Quel est le prix du produit ? 10\n",
      "le prix après remise est à  9.0\n"
     ]
    }
   ],
   "source": [
    "def question7(p):\n",
    "    p = float(p)\n",
    "    if p>= 500:\n",
    "        res = p*(1-50/100)\n",
    "    elif p<500 and p>=200:\n",
    "        res = p*(1-20/100)\n",
    "    else:\n",
    "        res = p*(1-10/100)\n",
    "    return print(\"le prix après remise est à \",res)\n",
    "p = input(\"Quel est le prix du produit ? \")\n",
    "question7(p)\n",
    "        "
   ]
  },
  {
   "cell_type": "code",
   "execution_count": null,
   "id": "264715e2",
   "metadata": {},
   "outputs": [],
   "source": []
  },
  {
   "cell_type": "code",
   "execution_count": null,
   "id": "586ca548",
   "metadata": {},
   "outputs": [],
   "source": []
  },
  {
   "cell_type": "code",
   "execution_count": null,
   "id": "532a6268",
   "metadata": {},
   "outputs": [],
   "source": []
  },
  {
   "cell_type": "code",
   "execution_count": null,
   "id": "25bc2195",
   "metadata": {},
   "outputs": [],
   "source": []
  }
 ],
 "metadata": {
  "kernelspec": {
   "display_name": "Python 3",
   "language": "python",
   "name": "python3"
  },
  "language_info": {
   "codemirror_mode": {
    "name": "ipython",
    "version": 3
   },
   "file_extension": ".py",
   "mimetype": "text/x-python",
   "name": "python",
   "nbconvert_exporter": "python",
   "pygments_lexer": "ipython3",
   "version": "3.8.8"
  }
 },
 "nbformat": 4,
 "nbformat_minor": 5
}
