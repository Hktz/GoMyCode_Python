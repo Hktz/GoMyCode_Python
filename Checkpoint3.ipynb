{
 "cells": [
  {
   "cell_type": "code",
   "execution_count": 1,
   "id": "ca3e3619",
   "metadata": {},
   "outputs": [
    {
     "name": "stdout",
     "output_type": "stream",
     "text": [
      "Combien d'élément contient la liste ?1\n",
      "ajouter un nombre à la liste2\n",
      "la liste est [2]\n"
     ]
    },
    {
     "data": {
      "text/plain": [
       "2"
      ]
     },
     "execution_count": 1,
     "metadata": {},
     "output_type": "execute_result"
    }
   ],
   "source": [
    "def question1(n):\n",
    "    resultat = 1\n",
    "    my_list=[]\n",
    "    for i in range(0,n):\n",
    "        my_list.append(int(input(\"ajouter un nombre à la liste\")))\n",
    "    print(\"la liste est\",my_list)\n",
    "    for i in range(0,len(my_list)):\n",
    "        resultat = resultat*my_list[i]\n",
    "    return resultat\n",
    "n = int(input(\"Combien d'élément contient la liste ?\"))\n",
    "question1(n)\n"
   ]
  },
  {
   "cell_type": "code",
   "execution_count": 8,
   "id": "fe7ea3d0",
   "metadata": {},
   "outputs": [
    {
     "name": "stdout",
     "output_type": "stream",
     "text": [
      "nombre de clés dans le dictionnaire ? 3\n",
      "entrez un nombre au 1er dictionnaire2\n",
      "entrez un nombre au 1er dictionnaire1\n",
      "entrez un nombre au 1er dictionnaire4\n",
      "entrez un nombre au 2ème dictionnaire5\n",
      "entrez un nombre au 2ème dictionnaire6\n",
      "entrez un nombre au 2ème dictionnaire3\n",
      "{0: 2, 1: 1, 2: 4} {0: 5, 1: 6, 2: 3}\n"
     ]
    },
    {
     "data": {
      "text/plain": [
       "{0: 7, 1: 7, 2: 7}"
      ]
     },
     "execution_count": 8,
     "metadata": {},
     "output_type": "execute_result"
    }
   ],
   "source": [
    "def question3(n):\n",
    "    key ='a'\n",
    "    dico1={}\n",
    "    dico2={}\n",
    "    res={}\n",
    "    for i in range(0,n):\n",
    "        \n",
    "        dico1[i]=int(input(\"entrez un nombre au 1er dictionnaire\"))\n",
    "    for i in range(0,n):\n",
    "        \n",
    "        dico2[i]=int(input(\"entrez un nombre au 2ème dictionnaire\"))\n",
    "    for i in dico1.keys():\n",
    "        res[i]=dico1[i]+dico2[i]\n",
    "    print(dico1,dico2)\n",
    "    return res\n",
    "n=int(input(\"nombre de clés dans le dictionnaire ? \"))\n",
    "question3(n)"
   ]
  },
  {
   "cell_type": "code",
   "execution_count": 3,
   "id": "d8dea081",
   "metadata": {},
   "outputs": [
    {
     "name": "stdout",
     "output_type": "stream",
     "text": [
      "Quel nombre entier ? 3\n"
     ]
    },
    {
     "data": {
      "text/plain": [
       "{1: 1, 2: 4, 3: 9}"
      ]
     },
     "execution_count": 3,
     "metadata": {},
     "output_type": "execute_result"
    }
   ],
   "source": [
    "def question4(n):\n",
    "    dict = {}\n",
    "    for i in range(1,n+1):\n",
    "        dict[i]=i*i\n",
    "    return dict\n",
    "n=int(input(\"Quel nombre entier ? \"))\n",
    "question4(n)"
   ]
  },
  {
   "cell_type": "markdown",
   "id": "aa13b1e4",
   "metadata": {},
   "source": []
  },
  {
   "cell_type": "code",
   "execution_count": 4,
   "id": "b669a54f",
   "metadata": {},
   "outputs": [
    {
     "name": "stdout",
     "output_type": "stream",
     "text": [
      "('a', 3.2)\n"
     ]
    }
   ],
   "source": [
    "tup1=(\"a\",3.2)\n",
    "print(tup1)"
   ]
  },
  {
   "cell_type": "code",
   "execution_count": 5,
   "id": "784578dc",
   "metadata": {},
   "outputs": [
    {
     "name": "stdout",
     "output_type": "stream",
     "text": [
      "Quel est le nombre d'élement dans la liste ?1\n",
      "Entrez un nombre?2\n",
      "[('item1', 2.0)]\n"
     ]
    },
    {
     "data": {
      "text/plain": [
       "[('item1', 2.0)]"
      ]
     },
     "execution_count": 5,
     "metadata": {},
     "output_type": "execute_result"
    }
   ],
   "source": [
    "def keyArgs(args):\n",
    "    return args[1]\n",
    "def question5(n):\n",
    "    my_list =[]\n",
    "    item = \"item\"\n",
    "    for i in range(1,n+1):\n",
    "        newitem = item+str(i)\n",
    "        my_list.append((newitem,float(input(\"Entrez un nombre?\"))))\n",
    "    print(my_list)\n",
    "    my_list.sort(key=keyArgs,reverse=True)\n",
    "    return my_list\n",
    "n=int(input(\"Quel est le nombre d'élement dans la liste ?\"))\n",
    "question5(n)"
   ]
  },
  {
   "cell_type": "code",
   "execution_count": 9,
   "id": "65904339",
   "metadata": {},
   "outputs": [
    {
     "name": "stdout",
     "output_type": "stream",
     "text": [
      "Quel est le nombre d'élement dans la liste ?4\n",
      "Tuple 1\n",
      "Entrez un nombre?54\n",
      "Entrez un nombre?34\n",
      "Tuple 2\n",
      "Entrez un nombre?12\n",
      "Entrez un nombre?32\n",
      "Tuple 3\n",
      "Entrez un nombre?4\n",
      "Entrez un nombre?5\n",
      "Tuple 4\n",
      "Entrez un nombre?6\n",
      "Entrez un nombre?3\n",
      "[(54.0, 34.0), (12.0, 32.0), (4.0, 5.0), (6.0, 3.0)]\n"
     ]
    },
    {
     "data": {
      "text/plain": [
       "[(6.0, 3.0), (4.0, 5.0), (12.0, 32.0), (54.0, 34.0)]"
      ]
     },
     "execution_count": 9,
     "metadata": {},
     "output_type": "execute_result"
    }
   ],
   "source": [
    "def keyArgs(args):\n",
    "    return args[1]\n",
    "def question2(n):\n",
    "    my_list =[]\n",
    "    for i in range(1,n+1):\n",
    "        print(\"Tuple \"+str(i))\n",
    "        my_list.append((float(input(\"Entrez un nombre?\")),float(input(\"Entrez un nombre?\"))))\n",
    "    print(my_list)\n",
    "    my_list.sort(key=keyArgs,reverse=False)\n",
    "    return my_list\n",
    "n=int(input(\"Quel est le nombre d'élement dans la liste ?\"))\n",
    "question2(n)"
   ]
  },
  {
   "cell_type": "code",
   "execution_count": null,
   "id": "8f8503e7",
   "metadata": {},
   "outputs": [],
   "source": []
  },
  {
   "cell_type": "code",
   "execution_count": null,
   "id": "799ebfb3",
   "metadata": {},
   "outputs": [],
   "source": []
  },
  {
   "cell_type": "code",
   "execution_count": null,
   "id": "5287d29f",
   "metadata": {},
   "outputs": [],
   "source": []
  }
 ],
 "metadata": {
  "kernelspec": {
   "display_name": "Python 3",
   "language": "python",
   "name": "python3"
  },
  "language_info": {
   "codemirror_mode": {
    "name": "ipython",
    "version": 3
   },
   "file_extension": ".py",
   "mimetype": "text/x-python",
   "name": "python",
   "nbconvert_exporter": "python",
   "pygments_lexer": "ipython3",
   "version": "3.8.8"
  }
 },
 "nbformat": 4,
 "nbformat_minor": 5
}
