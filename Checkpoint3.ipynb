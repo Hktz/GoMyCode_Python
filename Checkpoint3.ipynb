{
 "cells": [
  {
   "cell_type": "code",
   "execution_count": 1,
   "id": "ca3e3619",
   "metadata": {},
   "outputs": [
    {
     "name": "stdout",
     "output_type": "stream",
     "text": [
      "Combien d'élément contient la liste ?3\n",
      "ajouter un nombre à la liste2\n",
      "ajouter un nombre à la liste3\n",
      "ajouter un nombre à la liste5\n",
      "la liste est [2, 3, 5]\n"
     ]
    },
    {
     "data": {
      "text/plain": [
       "30"
      ]
     },
     "execution_count": 1,
     "metadata": {},
     "output_type": "execute_result"
    }
   ],
   "source": [
    "def question1(n):\n",
    "    resultat = 1\n",
    "    my_list=[]\n",
    "    for i in range(0,n):\n",
    "        my_list.append(int(input(\"ajouter un nombre à la liste\")))\n",
    "    print(\"la liste est\",my_list)\n",
    "    for i in range(0,len(my_list)):\n",
    "        resultat = resultat*my_list[i]\n",
    "    return resultat\n",
    "n = int(input(\"Combien d'élément contient la liste ?\"))\n",
    "question1(n)\n"
   ]
  },
  {
   "cell_type": "code",
   "execution_count": null,
   "id": "fe7ea3d0",
   "metadata": {},
   "outputs": [],
   "source": []
  },
  {
   "cell_type": "code",
   "execution_count": 2,
   "id": "d8dea081",
   "metadata": {},
   "outputs": [
    {
     "name": "stdout",
     "output_type": "stream",
     "text": [
      "Quel nombre entier ? 4\n"
     ]
    },
    {
     "data": {
      "text/plain": [
       "{1: 1, 2: 4, 3: 9, 4: 16}"
      ]
     },
     "execution_count": 2,
     "metadata": {},
     "output_type": "execute_result"
    }
   ],
   "source": [
    "def question4(n):\n",
    "    dict = {}\n",
    "    for i in range(1,n+1):\n",
    "        dict[i]=i*i\n",
    "    return dict\n",
    "n=int(input(\"Quel nombre entier ? \"))\n",
    "question4(n)"
   ]
  },
  {
   "cell_type": "markdown",
   "id": "6ba65a4a",
   "metadata": {},
   "source": []
  },
  {
   "cell_type": "code",
   "execution_count": 3,
   "id": "b669a54f",
   "metadata": {},
   "outputs": [
    {
     "name": "stdout",
     "output_type": "stream",
     "text": [
      "('a', 3.2)\n"
     ]
    }
   ],
   "source": [
    "tup1=(\"a\",3.2)\n",
    "print(tup1)"
   ]
  },
  {
   "cell_type": "code",
   "execution_count": 4,
   "id": "784578dc",
   "metadata": {},
   "outputs": [
    {
     "name": "stdout",
     "output_type": "stream",
     "text": [
      "Quel est le nombre d'élement dans la liste ?3\n",
      "Entrez un nombre?2\n",
      "Entrez un nombre?4\n",
      "Entrez un nombre?5\n",
      "[('item1', 2.0), ('item2', 4.0), ('item3', 5.0)]\n"
     ]
    },
    {
     "data": {
      "text/plain": [
       "[('item3', 5.0), ('item2', 4.0), ('item1', 2.0)]"
      ]
     },
     "execution_count": 4,
     "metadata": {},
     "output_type": "execute_result"
    }
   ],
   "source": [
    "def keyArgs(args):\n",
    "    return args[1]\n",
    "def question5(n):\n",
    "    my_list =[]\n",
    "    item = \"item\"\n",
    "    for i in range(1,n+1):\n",
    "        newitem = item+str(i)\n",
    "        my_list.append((newitem,float(input(\"Entrez un nombre?\"))))\n",
    "    print(my_list)\n",
    "    my_list.sort(key=keyArgs,reverse=True)\n",
    "    return my_list\n",
    "n=int(input(\"Quel est le nombre d'élement dans la liste ?\"))\n",
    "question5(n)"
   ]
  },
  {
   "cell_type": "code",
   "execution_count": 5,
   "id": "65904339",
   "metadata": {},
   "outputs": [
    {
     "name": "stdout",
     "output_type": "stream",
     "text": [
      "Quel est le nombre d'élement dans la liste ?5\n",
      "Tuple 1\n",
      "Entrez un nombre?4\n",
      "Entrez un nombre?3\n",
      "Tuple 2\n",
      "Entrez un nombre?6\n",
      "Entrez un nombre?3\n",
      "Tuple 3\n",
      "Entrez un nombre?2\n",
      "Entrez un nombre?3\n",
      "Tuple 4\n",
      "Entrez un nombre?1\n",
      "Entrez un nombre?2\n",
      "Tuple 5\n",
      "Entrez un nombre?3\n",
      "Entrez un nombre?7\n",
      "[(4.0, 3.0), (6.0, 3.0), (2.0, 3.0), (1.0, 2.0), (3.0, 7.0)]\n"
     ]
    },
    {
     "data": {
      "text/plain": [
       "[(1.0, 2.0), (4.0, 3.0), (6.0, 3.0), (2.0, 3.0), (3.0, 7.0)]"
      ]
     },
     "execution_count": 5,
     "metadata": {},
     "output_type": "execute_result"
    }
   ],
   "source": [
    "def keyArgs(args):\n",
    "    return args[1]\n",
    "def question2(n):\n",
    "    my_list =[]\n",
    "    for i in range(1,n+1):\n",
    "        print(\"Tuple \"+str(i))\n",
    "        my_list.append((float(input(\"Entrez un nombre?\")),float(input(\"Entrez un nombre?\"))))\n",
    "    print(my_list)\n",
    "    my_list.sort(key=keyArgs,reverse=False)\n",
    "    return my_list\n",
    "n=int(input(\"Quel est le nombre d'élement dans la liste ?\"))\n",
    "question2(n)"
   ]
  },
  {
   "cell_type": "code",
   "execution_count": 6,
   "id": "8f8503e7",
   "metadata": {},
   "outputs": [
    {
     "data": {
      "text/plain": [
       "{'a': 400, 'b': 400, 'c': 300, 'd': 400}"
      ]
     },
     "execution_count": 6,
     "metadata": {},
     "output_type": "execute_result"
    }
   ],
   "source": [
    "def question3(dic1,dic2):\n",
    "    dic_res = {}\n",
    "    liste_key=list(dic1.keys())+list(dic2.keys())\n",
    "    \n",
    "    for key in liste_key:\n",
    "        if key in dic1.keys() and key in dic2.keys():\n",
    "            dic_res[key] = dic1[key]+dic2[key]\n",
    "        elif key in dic1.keys() and key not in dic2.keys():\n",
    "            dic_res[key] = dic1[key]\n",
    "        else:\n",
    "            dic_res[key] = dic2[key]\n",
    "    return dic_res\n",
    "d1 = {'a': 100, 'b': 200, 'c':300}\n",
    "d2 = {'a': 300, 'b': 200, 'd':400}\n",
    "question3(d1,d2)\n",
    "        \n",
    "    "
   ]
  },
  {
   "cell_type": "code",
   "execution_count": 7,
   "id": "03432260",
   "metadata": {},
   "outputs": [
    {
     "name": "stdout",
     "output_type": "stream",
     "text": [
      "['a', 'b', 'c', 'a', 'b', 'd']\n"
     ]
    }
   ],
   "source": [
    "d1 = {'a': 100, 'b': 200, 'c':300}\n",
    "d2 = {'a': 300, 'b': 200, 'd':400}\n",
    "liste_key=list(d1.keys())+list(d2.keys())\n",
    "print(liste_key)"
   ]
  },
  {
   "cell_type": "code",
   "execution_count": null,
   "id": "4d8e6df9",
   "metadata": {},
   "outputs": [],
   "source": []
  },
  {
   "cell_type": "code",
   "execution_count": null,
   "id": "114df38c",
   "metadata": {},
   "outputs": [],
   "source": []
  }
 ],
 "metadata": {
  "kernelspec": {
   "display_name": "Python 3",
   "language": "python",
   "name": "python3"
  },
  "language_info": {
   "codemirror_mode": {
    "name": "ipython",
    "version": 3
   },
   "file_extension": ".py",
   "mimetype": "text/x-python",
   "name": "python",
   "nbconvert_exporter": "python",
   "pygments_lexer": "ipython3",
   "version": "3.8.8"
  }
 },
 "nbformat": 4,
 "nbformat_minor": 5
}
