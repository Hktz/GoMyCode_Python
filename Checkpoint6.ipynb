{
 "cells": [
  {
   "cell_type": "code",
   "execution_count": 6,
   "id": "ea7f40f7",
   "metadata": {},
   "outputs": [
    {
     "name": "stdout",
     "output_type": "stream",
     "text": [
      "[[1 2 3 4]\n",
      " [5 6 7 8]]\n",
      "[[1, 2, 3, 4], [5, 6, 7, 8]]\n"
     ]
    }
   ],
   "source": [
    "import numpy as np\n",
    "array = np.array([[1,2,3,4],[5,6,7,8]])\n",
    "print(array)\n",
    "print(array.tolist())"
   ]
  },
  {
   "cell_type": "code",
   "execution_count": 48,
   "id": "0f74ddf9",
   "metadata": {},
   "outputs": [
    {
     "name": "stdout",
     "output_type": "stream",
     "text": [
      "19\n",
      "19\n"
     ]
    }
   ],
   "source": [
    "import numpy as np\n",
    "ar = np.array([[1,2,3],[5,6,7],[3,4,12]])\n",
    "a = np.trace(ar)\n",
    "\n",
    "def sum_diag(ar):\n",
    "    result=0\n",
    "    for i in range(0,len(ar)):\n",
    "        result=result+ar[i,i]\n",
    "    return result\n",
    "b=sum_diag(ar)\n",
    "print(a)\n",
    "print(b)"
   ]
  },
  {
   "cell_type": "code",
   "execution_count": 68,
   "id": "16eb9289",
   "metadata": {},
   "outputs": [
    {
     "name": "stdout",
     "output_type": "stream",
     "text": [
      "les élements de la matrice supérieurs à 5 sont :\n",
      "6 7 12 "
     ]
    }
   ],
   "source": [
    "import numpy as np\n",
    "def test_array(x,ar):\n",
    "    result=[]\n",
    "    print(\"les élements de la matrice supérieurs à {} sont :\".format(x))\n",
    "    for i in np.nditer(ar):\n",
    "        if i>x:\n",
    "            print(i,end=' ')     \n",
    "    return\n",
    "x=5\n",
    "ar = np.array([[1,2,3],[5,6,7],[3,4,12]])\n",
    "test_array(x,ar)"
   ]
  },
  {
   "cell_type": "code",
   "execution_count": 84,
   "id": "89aca18a",
   "metadata": {},
   "outputs": [
    {
     "name": "stdout",
     "output_type": "stream",
     "text": [
      "[[ 4  6  7]\n",
      " [20 52 64]\n",
      " [66 48 44]\n",
      " [ 6  8 24]]\n"
     ]
    }
   ],
   "source": [
    "import numpy as np\n",
    "a = np.array([[1,2,3],[5,6,7],[3,4,12],[3,4,12]])\n",
    "b = np.array([[3,4,4],[15,46,57],[63,44,32],[3,4,12]])\n",
    "result=[]\n",
    "nb_row=a.shape[0]\n",
    "nb_column=a.shape[1]\n",
    "for i in range(0,nb_row):\n",
    "    for j in range(0,nb_column):\n",
    "        result.append(a[i,j]+b[i,j])\n",
    "c=np.array(result).reshape(nb_row,nb_column)\n",
    "print(c)"
   ]
  },
  {
   "cell_type": "code",
   "execution_count": 85,
   "id": "9880dfe8",
   "metadata": {},
   "outputs": [
    {
     "name": "stdout",
     "output_type": "stream",
     "text": [
      "[ 1.33333333  6.          5.66666667 20.        ]\n"
     ]
    },
    {
     "data": {
      "text/plain": [
       "33.0"
      ]
     },
     "execution_count": 85,
     "metadata": {},
     "output_type": "execute_result"
    }
   ],
   "source": [
    "import numpy as np\n",
    "def subtract(ar):\n",
    "    result=0\n",
    "    mean_ar=np.mean(ar,axis=1)\n",
    "    print(mean_ar)\n",
    "    for i in np.nditer(mean_ar):\n",
    "        result=result+i\n",
    "    return result\n",
    "a = np.array([[1,2,1],[5,6,7],[3,2,12],[3,45,12]])\n",
    "subtract(a)"
   ]
  },
  {
   "cell_type": "code",
   "execution_count": null,
   "id": "c313398c",
   "metadata": {},
   "outputs": [],
   "source": []
  },
  {
   "cell_type": "code",
   "execution_count": null,
   "id": "42d583d7",
   "metadata": {},
   "outputs": [],
   "source": []
  }
 ],
 "metadata": {
  "kernelspec": {
   "display_name": "Python 3",
   "language": "python",
   "name": "python3"
  },
  "language_info": {
   "codemirror_mode": {
    "name": "ipython",
    "version": 3
   },
   "file_extension": ".py",
   "mimetype": "text/x-python",
   "name": "python",
   "nbconvert_exporter": "python",
   "pygments_lexer": "ipython3",
   "version": "3.8.8"
  }
 },
 "nbformat": 4,
 "nbformat_minor": 5
}
