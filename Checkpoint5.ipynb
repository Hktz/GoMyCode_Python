{
 "cells": [
  {
   "cell_type": "code",
   "execution_count": 1,
   "id": "c4ccd321",
   "metadata": {},
   "outputs": [
    {
     "name": "stdout",
     "output_type": "stream",
     "text": [
      "L'abscisse de mon point est : 1\n",
      "L'ordonnée de mon point est : 2\n",
      "L'altitude de mon point est : 3\n"
     ]
    }
   ],
   "source": [
    "class Point3D:\n",
    "    def __init__(self,x,y,z):\n",
    "        self.x=x\n",
    "        self.y=y\n",
    "        self.z=z\n",
    "mypoint=Point3D(1,2,3)\n",
    "print(\"L'abscisse de mon point est :\",mypoint.x)\n",
    "print(\"L'ordonnée de mon point est :\",mypoint.y)\n",
    "print(\"L'altitude de mon point est :\",mypoint.z)"
   ]
  },
  {
   "cell_type": "code",
   "execution_count": 2,
   "id": "a1fa4df7",
   "metadata": {},
   "outputs": [
    {
     "name": "stdout",
     "output_type": "stream",
     "text": [
      "La surface du rectangle est : 12\n",
      "Le périmètre du rectangle est : 14\n"
     ]
    }
   ],
   "source": [
    "class Rectangle:\n",
    "    def __init__(self,longueur,largeur):\n",
    "        self.longueur = longueur\n",
    "        self.largeur = largeur\n",
    "    \n",
    "    def area(self):\n",
    "        print(\"La surface du rectangle est :\",self.longueur*self.largeur)\n",
    "        \n",
    "    def perimeter(self):\n",
    "         print(\"Le périmètre du rectangle est :\",2*(self.longueur+self.largeur))\n",
    "\n",
    "monrectangle=Rectangle(3,4)\n",
    "monrectangle.area()\n",
    "monrectangle.perimeter()"
   ]
  },
  {
   "cell_type": "code",
   "execution_count": 19,
   "id": "2fe7897b",
   "metadata": {},
   "outputs": [
    {
     "name": "stdout",
     "output_type": "stream",
     "text": [
      "La surface du cercle est : 50.27\n",
      "le perimètre du cercle est : 25.13\n"
     ]
    },
    {
     "data": {
      "text/plain": [
       "True"
      ]
     },
     "execution_count": 19,
     "metadata": {},
     "output_type": "execute_result"
    }
   ],
   "source": [
    "import math\n",
    "dist=0\n",
    "class Circle:\n",
    "    def __init__(self,r,Ox=0,Oy=0):\n",
    "        self.r=r\n",
    "        self.Ox=Ox\n",
    "        self.Oy=Oy\n",
    "        \n",
    "        \n",
    "    def area(self):\n",
    "        print(\"La surface du cercle est :\",round(math.pi*self.r*self.r,2))\n",
    "    def perimeter(self):\n",
    "        print(\"le perimètre du cercle est :\",round(2*math.pi*self.r,2))\n",
    "        \n",
    "    def isInside(self,Ax,Ay):\n",
    "        dist=math.sqrt((Ax-self.Ox)*(Ax-self.Ox)+(Ay-self.Oy)*(Ay-self.Oy))\n",
    "        if dist<self.r or dist==self.r:\n",
    "            #print(\"le point est dans le cercle\")\n",
    "            return True\n",
    "        else:\n",
    "            #print(\"le point n'est pas dans le cercle\")\n",
    "            return False\n",
    "        \n",
    "moncercle=Circle(4,2,3)\n",
    "moncercle.area()\n",
    "moncercle.perimeter()\n",
    "moncercle.isInside(1,2)"
   ]
  },
  {
   "cell_type": "code",
   "execution_count": 26,
   "id": "469d78b9",
   "metadata": {},
   "outputs": [
    {
     "data": {
      "text/plain": [
       "168"
      ]
     },
     "execution_count": 26,
     "metadata": {},
     "output_type": "execute_result"
    }
   ],
   "source": [
    "class Bank:\n",
    "    def __init__(self,solde):\n",
    "        self.solde=solde\n",
    "        \n",
    "    def depot(self,montant):\n",
    "        self.solde = self.solde+montant\n",
    "        return self.solde\n",
    "    def retrait(self,montant):\n",
    "        self.solde = self.solde-montant\n",
    "        return self.solde\n",
    "\n",
    "moncompte =Bank(100)\n",
    "moncompte.depot(80)\n",
    "moncompte.retrait(12)"
   ]
  },
  {
   "cell_type": "code",
   "execution_count": null,
   "id": "78c56973",
   "metadata": {},
   "outputs": [],
   "source": []
  }
 ],
 "metadata": {
  "kernelspec": {
   "display_name": "Python 3",
   "language": "python",
   "name": "python3"
  },
  "language_info": {
   "codemirror_mode": {
    "name": "ipython",
    "version": 3
   },
   "file_extension": ".py",
   "mimetype": "text/x-python",
   "name": "python",
   "nbconvert_exporter": "python",
   "pygments_lexer": "ipython3",
   "version": "3.8.8"
  }
 },
 "nbformat": 4,
 "nbformat_minor": 5
}
