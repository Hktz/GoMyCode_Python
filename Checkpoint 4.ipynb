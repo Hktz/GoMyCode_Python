{
 "cells": [
  {
   "cell_type": "code",
   "execution_count": 1,
   "id": "8da4183a",
   "metadata": {},
   "outputs": [
    {
     "name": "stdout",
     "output_type": "stream",
     "text": [
      "Quel est le 1er nombre ?23\n",
      "Quel est le 2nd nombre ?4\n",
      "Quel est le 3ème nombre ?32\n",
      "le nombre de plus élevé est : 4\n"
     ]
    }
   ],
   "source": [
    "def max_func(a,b,c):\n",
    "    result_int = 0\n",
    "    result_def = 0\n",
    "    if a>b:\n",
    "        result_int = a\n",
    "    else:\n",
    "        result_int = b\n",
    "    if result_int>c:\n",
    "        result_def = result_int\n",
    "    else:\n",
    "        result_def = c\n",
    "    return result_def\n",
    "a=input(\"Quel est le 1er nombre ?\")\n",
    "b=input(\"Quel est le 2nd nombre ?\")\n",
    "c=input(\"Quel est le 3ème nombre ?\")\n",
    "print(\"le nombre de plus élevé est :\",max_func(a,b,c))"
   ]
  },
  {
   "cell_type": "code",
   "execution_count": 2,
   "id": "5e95388c",
   "metadata": {},
   "outputs": [
    {
     "name": "stdout",
     "output_type": "stream",
     "text": [
      "quel est le 1er nombre ?3\n",
      "Quel est le 2nd nombre ?3\n"
     ]
    },
    {
     "data": {
      "text/plain": [
       "(6, 0)"
      ]
     },
     "execution_count": 2,
     "metadata": {},
     "output_type": "execute_result"
    }
   ],
   "source": [
    "def calculation(a,b):\n",
    "    result_sum = a + b\n",
    "    result_sub = a - b\n",
    "    return result_sum,result_sub\n",
    "a = int(input(\"quel est le 1er nombre ?\"))\n",
    "b = int(input(\"Quel est le 2nd nombre ?\"))\n",
    "calculation(a,b)"
   ]
  },
  {
   "cell_type": "code",
   "execution_count": 3,
   "id": "1aab6b3f",
   "metadata": {},
   "outputs": [
    {
     "name": "stdout",
     "output_type": "stream",
     "text": [
      "2\n"
     ]
    }
   ],
   "source": [
    "list1=[1,2,4]\n",
    "print(list1[1])"
   ]
  },
  {
   "cell_type": "code",
   "execution_count": 4,
   "id": "ef4fd4fa",
   "metadata": {},
   "outputs": [
    {
     "data": {
      "text/plain": [
       "[14, 35]"
      ]
     },
     "execution_count": 4,
     "metadata": {},
     "output_type": "execute_result"
    }
   ],
   "source": [
    "def func_sum(l):\n",
    "    result = 0\n",
    "    for i in range(0,len(l)):\n",
    "        result = result + int(l[i])\n",
    "    return result\n",
    "\n",
    "def func_mult(l):\n",
    "    result = 1\n",
    "    for i in range(0,len(l)):\n",
    "        result = result * int(l[i])\n",
    "    return result\n",
    "\n",
    "def calc(l):\n",
    "    result=0\n",
    "    l_even=[]\n",
    "    l_odd=[]\n",
    "    for i in range(0,len(l)):\n",
    "        if i%2 ==0:\n",
    "            l_even.append(l[i])\n",
    "        else:\n",
    "            l_odd.append(l[i])\n",
    "    result = [func_sum(l_even),func_mult(l_odd)]\n",
    "    return result\n",
    "l=[1,5,4,7,9]\n",
    "calc(l)"
   ]
  },
  {
   "cell_type": "code",
   "execution_count": 5,
   "id": "abd2fbce",
   "metadata": {},
   "outputs": [
    {
     "name": "stdout",
     "output_type": "stream",
     "text": [
      "black-green-red-white-yellow\n"
     ]
    }
   ],
   "source": [
    "txt =\"green-red-yellow-black-white\"\n",
    "x=txt.split(\"-\")\n",
    "x.sort()\n",
    "separator='-'\n",
    "x=separator.join(x)\n",
    "print(x)"
   ]
  },
  {
   "cell_type": "code",
   "execution_count": 9,
   "id": "63b05f0e",
   "metadata": {},
   "outputs": [
    {
     "data": {
      "text/plain": [
       "'black-brown-red-white-yellow'"
      ]
     },
     "execution_count": 9,
     "metadata": {},
     "output_type": "execute_result"
    }
   ],
   "source": [
    "def question4(x):\n",
    "    \n",
    "    x=x.split(\"-\")\n",
    "    x.sort()\n",
    "    separator='-'\n",
    "    x=separator.join(x)\n",
    "    return x\n",
    "a=\"brown-red-yellow-black-white\"\n",
    "question4(a)\n",
    "    "
   ]
  },
  {
   "cell_type": "code",
   "execution_count": 23,
   "id": "3d3d4940",
   "metadata": {},
   "outputs": [
    {
     "data": {
      "text/plain": [
       "[18, 22, 24]"
      ]
     },
     "execution_count": 23,
     "metadata": {},
     "output_type": "execute_result"
    }
   ],
   "source": [
    "import math\n",
    "def question5(x):\n",
    "    l=x.split(\",\")\n",
    "    list_result=[]\n",
    "    for i in range(len(l)):\n",
    "        resultat=round(math.sqrt((2*50*int(l[i])/30)))\n",
    "        list_result.append(resultat)\n",
    "    return list_result\n",
    "\n",
    "a=\"100,150,180\"\n",
    "question5(a)\n"
   ]
  },
  {
   "cell_type": "code",
   "execution_count": null,
   "id": "26234967",
   "metadata": {},
   "outputs": [],
   "source": []
  }
 ],
 "metadata": {
  "kernelspec": {
   "display_name": "Python 3",
   "language": "python",
   "name": "python3"
  },
  "language_info": {
   "codemirror_mode": {
    "name": "ipython",
    "version": 3
   },
   "file_extension": ".py",
   "mimetype": "text/x-python",
   "name": "python",
   "nbconvert_exporter": "python",
   "pygments_lexer": "ipython3",
   "version": "3.8.8"
  }
 },
 "nbformat": 4,
 "nbformat_minor": 5
}
