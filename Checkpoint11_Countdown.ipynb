{
 "cells": [
  {
   "cell_type": "code",
   "execution_count": 13,
   "id": "106a1d5d",
   "metadata": {},
   "outputs": [
    {
     "name": "stdout",
     "output_type": "stream",
     "text": [
      "your time32\n",
      "00 min:00 sec\r"
     ]
    }
   ],
   "source": [
    "import time as dt\n",
    "def countdown(t):\n",
    "    t=int(t)\n",
    "    while t>=0:\n",
    "        min_ = divmod(t,60)[0]\n",
    "        sec_ =divmod(t,60)[1]\n",
    "       \n",
    "        print(\"{:02d} min:{:02d} sec\".format(min_,sec_),end='\\r')\n",
    "        dt.sleep(1)\n",
    "        t=t-1\n",
    "\n",
    "    return\n",
    "\n",
    "t=int(input('your time'))\n",
    "countdown(t)\n",
    "      "
   ]
  },
  {
   "cell_type": "code",
   "execution_count": null,
   "id": "90a1ab6b",
   "metadata": {},
   "outputs": [],
   "source": []
  },
  {
   "cell_type": "code",
   "execution_count": null,
   "id": "95757827",
   "metadata": {},
   "outputs": [],
   "source": []
  },
  {
   "cell_type": "code",
   "execution_count": null,
   "id": "b30a5d9c",
   "metadata": {},
   "outputs": [],
   "source": []
  },
  {
   "cell_type": "code",
   "execution_count": null,
   "id": "4cc10305",
   "metadata": {},
   "outputs": [],
   "source": []
  }
 ],
 "metadata": {
  "kernelspec": {
   "display_name": "Python 3",
   "language": "python",
   "name": "python3"
  },
  "language_info": {
   "codemirror_mode": {
    "name": "ipython",
    "version": 3
   },
   "file_extension": ".py",
   "mimetype": "text/x-python",
   "name": "python",
   "nbconvert_exporter": "python",
   "pygments_lexer": "ipython3",
   "version": "3.8.8"
  }
 },
 "nbformat": 4,
 "nbformat_minor": 5
}
